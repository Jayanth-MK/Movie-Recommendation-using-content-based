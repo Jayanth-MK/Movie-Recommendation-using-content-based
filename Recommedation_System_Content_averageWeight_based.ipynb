{
 "cells": [
  {
   "cell_type": "code",
   "execution_count": 1,
   "metadata": {},
   "outputs": [],
   "source": [
    "import pandas as pd\n",
    "import numpy as np"
   ]
  },
  {
   "cell_type": "code",
   "execution_count": 2,
   "metadata": {},
   "outputs": [],
   "source": [
    "nanValues = [\" 'job': 'Foley'\",\" 'credit_id': '58b55b3cc3a3685f020085cf'\",\" 'id': 1299484}\",\" 'job': 'Rigging Grip'\",\" 'id': 1648060}\",\" 'credit_id': '554924b392514104b80003c5'\",\" 'id': 1767012}\",\" {'name': 'Morten Folmer Nielsen'\",\" 'credit_id': '5681e7f89251414ecb003c42'\",\" {'name': 'John J. Hess'\"]"
   ]
  },
  {
   "cell_type": "code",
   "execution_count": 3,
   "metadata": {},
   "outputs": [],
   "source": [
    "df = pd.read_csv(\"moviedatabase.csv\",na_values=nanValues ,low_memory=False)"
   ]
  },
  {
   "cell_type": "code",
   "execution_count": 4,
   "metadata": {},
   "outputs": [
    {
     "data": {
      "text/plain": [
       "index            object\n",
       "budget           object\n",
       "genres           object\n",
       "homepage         object\n",
       "id               object\n",
       "                  ...  \n",
       "Unnamed: 1260    object\n",
       "Unnamed: 1261    object\n",
       "Unnamed: 1262    object\n",
       "Unnamed: 1263    object\n",
       "Unnamed: 1264    object\n",
       "Length: 1265, dtype: object"
      ]
     },
     "execution_count": 4,
     "metadata": {},
     "output_type": "execute_result"
    }
   ],
   "source": [
    "df.dtypes"
   ]
  },
  {
   "cell_type": "code",
   "execution_count": 5,
   "metadata": {},
   "outputs": [
    {
     "data": {
      "text/plain": [
       "array([11800.,  4500.,  4466., ...,   587.,  1708.,  2078.])"
      ]
     },
     "execution_count": 5,
     "metadata": {},
     "output_type": "execute_result"
    }
   ],
   "source": [
    "df.vote_count.unique()"
   ]
  },
  {
   "cell_type": "code",
   "execution_count": 6,
   "metadata": {},
   "outputs": [],
   "source": [
    "df.vote_count = df.vote_count.astype(np.number)\n",
    "df.vote_average = df.vote_average.astype(np.number)"
   ]
  },
  {
   "cell_type": "code",
   "execution_count": 7,
   "metadata": {},
   "outputs": [
    {
     "data": {
      "text/plain": [
       "(4809, 1265)"
      ]
     },
     "execution_count": 7,
     "metadata": {},
     "output_type": "execute_result"
    }
   ],
   "source": [
    "df.shape"
   ]
  },
  {
   "cell_type": "code",
   "execution_count": 8,
   "metadata": {},
   "outputs": [
    {
     "data": {
      "text/plain": [
       "(1241, 2)"
      ]
     },
     "execution_count": 8,
     "metadata": {},
     "output_type": "execute_result"
    }
   ],
   "source": [
    "percent_missing = df.isnull().sum() * 100 / len(df)\n",
    "missing_value_df = pd.DataFrame({'column_name': df.columns,\n",
    "                                 'percent_missing': percent_missing})\n",
    "count = missing_value_df[missing_value_df.percent_missing > 99]\n",
    "count.shape"
   ]
  },
  {
   "cell_type": "code",
   "execution_count": 9,
   "metadata": {},
   "outputs": [],
   "source": [
    "df.dropna(thresh=df.shape[0]*0.6,how='all',axis=1, inplace=True)"
   ]
  },
  {
   "cell_type": "code",
   "execution_count": 10,
   "metadata": {},
   "outputs": [
    {
     "data": {
      "text/plain": [
       "(4809, 23)"
      ]
     },
     "execution_count": 10,
     "metadata": {},
     "output_type": "execute_result"
    }
   ],
   "source": [
    "df.shape"
   ]
  },
  {
   "cell_type": "code",
   "execution_count": 11,
   "metadata": {},
   "outputs": [
    {
     "data": {
      "text/plain": [
       "tagline                 845\n",
       "keywords                412\n",
       "cast                     44\n",
       "director                 37\n",
       "genres                   28\n",
       "vote_count                6\n",
       "vote_average              6\n",
       "overview                  3\n",
       "runtime                   2\n",
       "crew                      1\n",
       "release_date              1\n",
       "title                     1\n",
       "revenue                   0\n",
       "production_countries      0\n",
       "production_companies      0\n",
       "popularity                0\n",
       "spoken_languages          0\n",
       "original_title            0\n",
       "original_language         0\n",
       "status                    0\n",
       "id                        0\n",
       "budget                    0\n",
       "index                     0\n",
       "dtype: int64"
      ]
     },
     "execution_count": 11,
     "metadata": {},
     "output_type": "execute_result"
    }
   ],
   "source": [
    "df.isna().sum().sort_values(ascending=False)"
   ]
  },
  {
   "cell_type": "code",
   "execution_count": 12,
   "metadata": {},
   "outputs": [
    {
     "data": {
      "text/html": [
       "<div>\n",
       "<style scoped>\n",
       "    .dataframe tbody tr th:only-of-type {\n",
       "        vertical-align: middle;\n",
       "    }\n",
       "\n",
       "    .dataframe tbody tr th {\n",
       "        vertical-align: top;\n",
       "    }\n",
       "\n",
       "    .dataframe thead th {\n",
       "        text-align: right;\n",
       "    }\n",
       "</style>\n",
       "<table border=\"1\" class=\"dataframe\">\n",
       "  <thead>\n",
       "    <tr style=\"text-align: right;\">\n",
       "      <th></th>\n",
       "      <th>index</th>\n",
       "      <th>budget</th>\n",
       "      <th>genres</th>\n",
       "      <th>id</th>\n",
       "      <th>keywords</th>\n",
       "      <th>original_language</th>\n",
       "      <th>original_title</th>\n",
       "      <th>overview</th>\n",
       "      <th>popularity</th>\n",
       "      <th>production_companies</th>\n",
       "      <th>...</th>\n",
       "      <th>runtime</th>\n",
       "      <th>spoken_languages</th>\n",
       "      <th>status</th>\n",
       "      <th>tagline</th>\n",
       "      <th>title</th>\n",
       "      <th>vote_average</th>\n",
       "      <th>vote_count</th>\n",
       "      <th>cast</th>\n",
       "      <th>crew</th>\n",
       "      <th>director</th>\n",
       "    </tr>\n",
       "  </thead>\n",
       "  <tbody>\n",
       "    <tr>\n",
       "      <th>0</th>\n",
       "      <td>0</td>\n",
       "      <td>237000000</td>\n",
       "      <td>Action Adventure Fantasy Science Fiction</td>\n",
       "      <td>19995</td>\n",
       "      <td>culture clash future space war space colony so...</td>\n",
       "      <td>en</td>\n",
       "      <td>Avatar</td>\n",
       "      <td>In the 22nd century, a paraplegic Marine is di...</td>\n",
       "      <td>150.437577</td>\n",
       "      <td>[{\"name\": \"Ingenious Film Partners\", \"id\": 289...</td>\n",
       "      <td>...</td>\n",
       "      <td>162</td>\n",
       "      <td>[{\"iso_639_1\": \"en\", \"name\": \"English\"}, {\"iso...</td>\n",
       "      <td>Released</td>\n",
       "      <td>Enter the World of Pandora.</td>\n",
       "      <td>Avatar</td>\n",
       "      <td>7.2</td>\n",
       "      <td>11800.0</td>\n",
       "      <td>Sam Worthington Zoe Saldana Sigourney Weaver S...</td>\n",
       "      <td>[{'name': 'Stephen E. Rivkin', 'gender': 0, 'd...</td>\n",
       "      <td>James Cameron</td>\n",
       "    </tr>\n",
       "    <tr>\n",
       "      <th>1</th>\n",
       "      <td>1</td>\n",
       "      <td>300000000</td>\n",
       "      <td>Adventure Fantasy Action</td>\n",
       "      <td>285</td>\n",
       "      <td>ocean drug abuse exotic island east india trad...</td>\n",
       "      <td>en</td>\n",
       "      <td>Pirates of the Caribbean: At World's End</td>\n",
       "      <td>Captain Barbossa, long believed to be dead, ha...</td>\n",
       "      <td>139.082615</td>\n",
       "      <td>[{\"name\": \"Walt Disney Pictures\", \"id\": 2}, {\"...</td>\n",
       "      <td>...</td>\n",
       "      <td>169</td>\n",
       "      <td>[{\"iso_639_1\": \"en\", \"name\": \"English\"}]</td>\n",
       "      <td>Released</td>\n",
       "      <td>At the end of the world, the adventure begins.</td>\n",
       "      <td>Pirates of the Caribbean: At World's End</td>\n",
       "      <td>6.9</td>\n",
       "      <td>4500.0</td>\n",
       "      <td>Johnny Depp Orlando Bloom Keira Knightley Stel...</td>\n",
       "      <td>[{'name': 'Dariusz Wolski', 'gender': 2, 'depa...</td>\n",
       "      <td>Gore Verbinski</td>\n",
       "    </tr>\n",
       "  </tbody>\n",
       "</table>\n",
       "<p>2 rows × 23 columns</p>\n",
       "</div>"
      ],
      "text/plain": [
       "  index     budget                                    genres     id  \\\n",
       "0     0  237000000  Action Adventure Fantasy Science Fiction  19995   \n",
       "1     1  300000000                  Adventure Fantasy Action    285   \n",
       "\n",
       "                                            keywords original_language  \\\n",
       "0  culture clash future space war space colony so...                en   \n",
       "1  ocean drug abuse exotic island east india trad...                en   \n",
       "\n",
       "                             original_title  \\\n",
       "0                                    Avatar   \n",
       "1  Pirates of the Caribbean: At World's End   \n",
       "\n",
       "                                            overview  popularity  \\\n",
       "0  In the 22nd century, a paraplegic Marine is di...  150.437577   \n",
       "1  Captain Barbossa, long believed to be dead, ha...  139.082615   \n",
       "\n",
       "                                production_companies  ... runtime  \\\n",
       "0  [{\"name\": \"Ingenious Film Partners\", \"id\": 289...  ...     162   \n",
       "1  [{\"name\": \"Walt Disney Pictures\", \"id\": 2}, {\"...  ...     169   \n",
       "\n",
       "                                    spoken_languages    status  \\\n",
       "0  [{\"iso_639_1\": \"en\", \"name\": \"English\"}, {\"iso...  Released   \n",
       "1           [{\"iso_639_1\": \"en\", \"name\": \"English\"}]  Released   \n",
       "\n",
       "                                          tagline  \\\n",
       "0                     Enter the World of Pandora.   \n",
       "1  At the end of the world, the adventure begins.   \n",
       "\n",
       "                                      title vote_average vote_count  \\\n",
       "0                                    Avatar          7.2    11800.0   \n",
       "1  Pirates of the Caribbean: At World's End          6.9     4500.0   \n",
       "\n",
       "                                                cast  \\\n",
       "0  Sam Worthington Zoe Saldana Sigourney Weaver S...   \n",
       "1  Johnny Depp Orlando Bloom Keira Knightley Stel...   \n",
       "\n",
       "                                                crew        director  \n",
       "0  [{'name': 'Stephen E. Rivkin', 'gender': 0, 'd...   James Cameron  \n",
       "1  [{'name': 'Dariusz Wolski', 'gender': 2, 'depa...  Gore Verbinski  \n",
       "\n",
       "[2 rows x 23 columns]"
      ]
     },
     "execution_count": 12,
     "metadata": {},
     "output_type": "execute_result"
    }
   ],
   "source": [
    "df.head(2)"
   ]
  },
  {
   "cell_type": "code",
   "execution_count": 13,
   "metadata": {},
   "outputs": [],
   "source": [
    "df.drop(columns=[\"index\",\"title\",\"status\",\"production_countries\",\"production_companies\"],inplace=True)"
   ]
  },
  {
   "cell_type": "code",
   "execution_count": 14,
   "metadata": {},
   "outputs": [],
   "source": [
    "from sklearn.feature_extraction.text import TfidfVectorizer\n",
    "\n",
    "\n",
    "tfv = TfidfVectorizer(min_df=3,  max_features=None, \n",
    "            strip_accents='unicode', analyzer='word',token_pattern=r'\\w{1,}',\n",
    "            ngram_range=(1, 3),\n",
    "            stop_words = 'english')\n",
    "\n",
    "\n",
    "df['overview'] = df['overview'].fillna('')"
   ]
  },
  {
   "cell_type": "code",
   "execution_count": 15,
   "metadata": {},
   "outputs": [],
   "source": [
    "tfv_matrix = tfv.fit_transform(df['overview'])"
   ]
  },
  {
   "cell_type": "code",
   "execution_count": 16,
   "metadata": {},
   "outputs": [
    {
     "data": {
      "text/plain": [
       "<4809x10418 sparse matrix of type '<class 'numpy.float64'>'\n",
       "\twith 127225 stored elements in Compressed Sparse Row format>"
      ]
     },
     "execution_count": 16,
     "metadata": {},
     "output_type": "execute_result"
    }
   ],
   "source": [
    "tfv_matrix"
   ]
  },
  {
   "cell_type": "code",
   "execution_count": 17,
   "metadata": {},
   "outputs": [
    {
     "data": {
      "text/plain": [
       "(4809, 10418)"
      ]
     },
     "execution_count": 17,
     "metadata": {},
     "output_type": "execute_result"
    }
   ],
   "source": [
    "tfv_matrix.shape"
   ]
  },
  {
   "cell_type": "code",
   "execution_count": 18,
   "metadata": {},
   "outputs": [],
   "source": [
    "from sklearn.metrics.pairwise import sigmoid_kernel\n",
    "\n",
    "sig = sigmoid_kernel(tfv_matrix, tfv_matrix)"
   ]
  },
  {
   "cell_type": "code",
   "execution_count": 19,
   "metadata": {},
   "outputs": [
    {
     "data": {
      "text/plain": [
       "array([0.76163447, 0.76159416, 0.76159416, ..., 0.76159416, 0.76159416,\n",
       "       0.76159416])"
      ]
     },
     "execution_count": 19,
     "metadata": {},
     "output_type": "execute_result"
    }
   ],
   "source": [
    "sig[0]"
   ]
  },
  {
   "cell_type": "code",
   "execution_count": 20,
   "metadata": {},
   "outputs": [],
   "source": [
    "indices = pd.Series(df.index, index=df['original_title']).drop_duplicates()"
   ]
  },
  {
   "cell_type": "code",
   "execution_count": 21,
   "metadata": {},
   "outputs": [
    {
     "data": {
      "text/plain": [
       "original_title\n",
       "Avatar                                         0\n",
       "Pirates of the Caribbean: At World's End       1\n",
       "Spectre                                        2\n",
       "The Dark Knight Rises                          3\n",
       "John Carter                                    4\n",
       "                                            ... \n",
       "El Mariachi                                 4804\n",
       "Newlyweds                                   4805\n",
       "Signed, Sealed, Delivered                   4806\n",
       "Shanghai Calling                            4807\n",
       "My Date with Drew                           4808\n",
       "Length: 4809, dtype: int64"
      ]
     },
     "execution_count": 21,
     "metadata": {},
     "output_type": "execute_result"
    }
   ],
   "source": [
    "indices"
   ]
  },
  {
   "cell_type": "code",
   "execution_count": 22,
   "metadata": {},
   "outputs": [],
   "source": [
    "def give_rec(title, sig=sig):\n",
    "    \n",
    "    idx = indices[title]\n",
    "\n",
    "    \n",
    "    sig_scores = list(enumerate(sig[idx]))\n",
    "\n",
    "    \n",
    "    sig_scores = sorted(sig_scores, key=lambda x: x[1], reverse=True)\n",
    "\n",
    "    \n",
    "    sig_scores = sig_scores[1:11]\n",
    "\n",
    "   \n",
    "    movie_indices = [i[0] for i in sig_scores]\n",
    "\n",
    "    # Top 10 most similar movies\n",
    "    return df['original_title'].iloc[movie_indices]"
   ]
  },
  {
   "cell_type": "code",
   "execution_count": 23,
   "metadata": {},
   "outputs": [
    {
     "data": {
      "text/plain": [
       "1347                Obitaemyy Ostrov\n",
       "639                       The Matrix\n",
       "3610                       Apollo 18\n",
       "2136                    The American\n",
       "780                        Supernova\n",
       "534                 Tears of the Sun\n",
       "152                          Beowulf\n",
       "315     The Adventures of Pluto Nash\n",
       "852                         Semi-Pro\n",
       "947                 The Book of Life\n",
       "Name: original_title, dtype: object"
      ]
     },
     "execution_count": 23,
     "metadata": {},
     "output_type": "execute_result"
    }
   ],
   "source": [
    "give_rec('Avatar')"
   ]
  },
  {
   "cell_type": "markdown",
   "metadata": {},
   "source": [
    "these are top 10 recommendations"
   ]
  },
  {
   "cell_type": "raw",
   "metadata": {},
   "source": [
    "manual way - weigthed average"
   ]
  },
  {
   "cell_type": "code",
   "execution_count": 24,
   "metadata": {},
   "outputs": [],
   "source": [
    "v=df['vote_count']\n",
    "R=df['vote_average']\n",
    "C=df['vote_average'].mean()\n",
    "m=df['vote_count'].quantile(0.70)"
   ]
  },
  {
   "cell_type": "code",
   "execution_count": 25,
   "metadata": {},
   "outputs": [],
   "source": [
    "df['weighted_average']=((R*v)+ (C*m))/(v+m)"
   ]
  },
  {
   "cell_type": "code",
   "execution_count": 26,
   "metadata": {},
   "outputs": [
    {
     "data": {
      "text/html": [
       "<div>\n",
       "<style scoped>\n",
       "    .dataframe tbody tr th:only-of-type {\n",
       "        vertical-align: middle;\n",
       "    }\n",
       "\n",
       "    .dataframe tbody tr th {\n",
       "        vertical-align: top;\n",
       "    }\n",
       "\n",
       "    .dataframe thead th {\n",
       "        text-align: right;\n",
       "    }\n",
       "</style>\n",
       "<table border=\"1\" class=\"dataframe\">\n",
       "  <thead>\n",
       "    <tr style=\"text-align: right;\">\n",
       "      <th></th>\n",
       "      <th>budget</th>\n",
       "      <th>genres</th>\n",
       "      <th>id</th>\n",
       "      <th>keywords</th>\n",
       "      <th>original_language</th>\n",
       "      <th>original_title</th>\n",
       "      <th>overview</th>\n",
       "      <th>popularity</th>\n",
       "      <th>release_date</th>\n",
       "      <th>revenue</th>\n",
       "      <th>runtime</th>\n",
       "      <th>spoken_languages</th>\n",
       "      <th>tagline</th>\n",
       "      <th>vote_average</th>\n",
       "      <th>vote_count</th>\n",
       "      <th>cast</th>\n",
       "      <th>crew</th>\n",
       "      <th>director</th>\n",
       "      <th>weighted_average</th>\n",
       "    </tr>\n",
       "  </thead>\n",
       "  <tbody>\n",
       "    <tr>\n",
       "      <th>0</th>\n",
       "      <td>237000000</td>\n",
       "      <td>Action Adventure Fantasy Science Fiction</td>\n",
       "      <td>19995</td>\n",
       "      <td>culture clash future space war space colony so...</td>\n",
       "      <td>en</td>\n",
       "      <td>Avatar</td>\n",
       "      <td>In the 22nd century, a paraplegic Marine is di...</td>\n",
       "      <td>150.437577</td>\n",
       "      <td>10-12-2009</td>\n",
       "      <td>2787965087</td>\n",
       "      <td>162</td>\n",
       "      <td>[{\"iso_639_1\": \"en\", \"name\": \"English\"}, {\"iso...</td>\n",
       "      <td>Enter the World of Pandora.</td>\n",
       "      <td>7.2</td>\n",
       "      <td>11800.0</td>\n",
       "      <td>Sam Worthington Zoe Saldana Sigourney Weaver S...</td>\n",
       "      <td>[{'name': 'Stephen E. Rivkin', 'gender': 0, 'd...</td>\n",
       "      <td>James Cameron</td>\n",
       "      <td>7.148013</td>\n",
       "    </tr>\n",
       "  </tbody>\n",
       "</table>\n",
       "</div>"
      ],
      "text/plain": [
       "      budget                                    genres     id  \\\n",
       "0  237000000  Action Adventure Fantasy Science Fiction  19995   \n",
       "\n",
       "                                            keywords original_language  \\\n",
       "0  culture clash future space war space colony so...                en   \n",
       "\n",
       "  original_title                                           overview  \\\n",
       "0         Avatar  In the 22nd century, a paraplegic Marine is di...   \n",
       "\n",
       "   popularity release_date     revenue runtime  \\\n",
       "0  150.437577   10-12-2009  2787965087     162   \n",
       "\n",
       "                                    spoken_languages  \\\n",
       "0  [{\"iso_639_1\": \"en\", \"name\": \"English\"}, {\"iso...   \n",
       "\n",
       "                       tagline  vote_average  vote_count  \\\n",
       "0  Enter the World of Pandora.           7.2     11800.0   \n",
       "\n",
       "                                                cast  \\\n",
       "0  Sam Worthington Zoe Saldana Sigourney Weaver S...   \n",
       "\n",
       "                                                crew       director  \\\n",
       "0  [{'name': 'Stephen E. Rivkin', 'gender': 0, 'd...  James Cameron   \n",
       "\n",
       "   weighted_average  \n",
       "0          7.148013  "
      ]
     },
     "execution_count": 26,
     "metadata": {},
     "output_type": "execute_result"
    }
   ],
   "source": [
    "df.head(1)"
   ]
  },
  {
   "cell_type": "code",
   "execution_count": 27,
   "metadata": {},
   "outputs": [
    {
     "data": {
      "text/html": [
       "<div>\n",
       "<style scoped>\n",
       "    .dataframe tbody tr th:only-of-type {\n",
       "        vertical-align: middle;\n",
       "    }\n",
       "\n",
       "    .dataframe tbody tr th {\n",
       "        vertical-align: top;\n",
       "    }\n",
       "\n",
       "    .dataframe thead th {\n",
       "        text-align: right;\n",
       "    }\n",
       "</style>\n",
       "<table border=\"1\" class=\"dataframe\">\n",
       "  <thead>\n",
       "    <tr style=\"text-align: right;\">\n",
       "      <th></th>\n",
       "      <th>original_title</th>\n",
       "      <th>vote_count</th>\n",
       "      <th>vote_average</th>\n",
       "      <th>popularity</th>\n",
       "      <th>weighted_average</th>\n",
       "    </tr>\n",
       "  </thead>\n",
       "  <tbody>\n",
       "    <tr>\n",
       "      <th>1887</th>\n",
       "      <td>The Shawshank Redemption</td>\n",
       "      <td>8205.0</td>\n",
       "      <td>8.5</td>\n",
       "      <td>136.747729</td>\n",
       "      <td>8.340775</td>\n",
       "    </tr>\n",
       "    <tr>\n",
       "      <th>3343</th>\n",
       "      <td>The Godfather</td>\n",
       "      <td>5893.0</td>\n",
       "      <td>8.4</td>\n",
       "      <td>143.659698</td>\n",
       "      <td>8.192887</td>\n",
       "    </tr>\n",
       "    <tr>\n",
       "      <th>667</th>\n",
       "      <td>Fight Club</td>\n",
       "      <td>9413.0</td>\n",
       "      <td>8.3</td>\n",
       "      <td>146.757391</td>\n",
       "      <td>8.171648</td>\n",
       "    </tr>\n",
       "    <tr>\n",
       "      <th>3238</th>\n",
       "      <td>Pulp Fiction</td>\n",
       "      <td>8428.0</td>\n",
       "      <td>8.3</td>\n",
       "      <td>121.463076</td>\n",
       "      <td>8.157615</td>\n",
       "    </tr>\n",
       "    <tr>\n",
       "      <th>66</th>\n",
       "      <td>The Dark Knight</td>\n",
       "      <td>12002.0</td>\n",
       "      <td>8.2</td>\n",
       "      <td>187.322927</td>\n",
       "      <td>8.102674</td>\n",
       "    </tr>\n",
       "  </tbody>\n",
       "</table>\n",
       "</div>"
      ],
      "text/plain": [
       "                original_title  vote_count  vote_average  popularity  \\\n",
       "1887  The Shawshank Redemption      8205.0           8.5  136.747729   \n",
       "3343             The Godfather      5893.0           8.4  143.659698   \n",
       "667                 Fight Club      9413.0           8.3  146.757391   \n",
       "3238              Pulp Fiction      8428.0           8.3  121.463076   \n",
       "66             The Dark Knight     12002.0           8.2  187.322927   \n",
       "\n",
       "      weighted_average  \n",
       "1887          8.340775  \n",
       "3343          8.192887  \n",
       "667           8.171648  \n",
       "3238          8.157615  \n",
       "66            8.102674  "
      ]
     },
     "execution_count": 27,
     "metadata": {},
     "output_type": "execute_result"
    }
   ],
   "source": [
    "moviesRanking = df.sort_values(by =\"weighted_average\",ascending=False)\n",
    "moviesRanking[[\"original_title\",\"vote_count\",\"vote_average\",\"popularity\",\"weighted_average\"]].head()"
   ]
  },
  {
   "cell_type": "code",
   "execution_count": 28,
   "metadata": {},
   "outputs": [
    {
     "data": {
      "image/png": "[encoded data removed]",
      "text/plain": [
       "<Figure size 864x432 with 1 Axes>"
      ]
     },
     "metadata": {
      "needs_background": "light"
     },
     "output_type": "display_data"
    }
   ],
   "source": [
    "import matplotlib.pyplot as plt\n",
    "import seaborn as sns\n",
    "\n",
    "weight_average=moviesRanking.sort_values('weighted_average',ascending=False)\n",
    "plt.figure(figsize=(12,6))\n",
    "axis1=sns.barplot(x=weight_average['weighted_average'].head(10), y=weight_average['original_title'].head(10), data=weight_average)\n",
    "plt.xlim(4, 10)\n",
    "plt.title('Best Movies by average votes', weight='bold')\n",
    "plt.xlabel('Weighted Average Score', weight='bold')\n",
    "plt.ylabel('Movie Title', weight='bold')\n",
    "plt.savefig('best_movies.png')"
   ]
  },
  {
   "cell_type": "code",
   "execution_count": 29,
   "metadata": {},
   "outputs": [
    {
     "data": {
      "image/png": "[encoded data removed]",
      "text/plain": [
       "<Figure size 864x432 with 1 Axes>"
      ]
     },
     "metadata": {
      "needs_background": "light"
     },
     "output_type": "display_data"
    }
   ],
   "source": [
    "popularity=moviesRanking.sort_values('popularity',ascending=False)\n",
    "plt.figure(figsize=(12,6))\n",
    "ax=sns.barplot(x=popularity['popularity'].head(10), y=popularity['original_title'].head(10), data=popularity)\n",
    "\n",
    "plt.title('Most Popular by Votes', weight='bold')\n",
    "plt.xlabel('Score of Popularity', weight='bold')\n",
    "plt.ylabel('Movie Title', weight='bold')\n",
    "plt.savefig('best_popular_movies.png')"
   ]
  }
 ],
 "metadata": {
  "kernelspec": {
   "display_name": "Python 3",
   "language": "python",
   "name": "python3"
  },
  "language_info": {
   "codemirror_mode": {
    "name": "ipython",
    "version": 3
   },
   "file_extension": ".py",
   "mimetype": "text/x-python",
   "name": "python",
   "nbconvert_exporter": "python",
   "pygments_lexer": "ipython3",
   "version": "3.7.6"
  }
 },
 "nbformat": 4,
 "nbformat_minor": 4
}
